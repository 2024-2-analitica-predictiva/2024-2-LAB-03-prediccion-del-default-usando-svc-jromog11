{
 "cells": [
  {
   "cell_type": "code",
   "execution_count": 12,
   "metadata": {},
   "outputs": [],
   "source": [
    "# importacion de datasets\n",
    "\n",
    "import pandas as pd\n",
    "\n",
    "train = pd.read_csv('../files/input/train_data.csv.zip', compression='zip')\n",
    "test = pd.read_csv('../files/input/test_data.csv.zip', compression='zip')"
   ]
  },
  {
   "cell_type": "code",
   "execution_count": 13,
   "metadata": {},
   "outputs": [],
   "source": [
    "# Paso 1: Limpieza de datos\n",
    "\n",
    "def preprocess_data(df):\n",
    "    df = df.rename(columns={'default payment next month': 'default'})\n",
    "    df = df.drop('ID', axis=1)\n",
    "    df = df.dropna()\n",
    "    df = df[(df['EDUCATION'] != 0 ) & (df['MARRIAGE'] != 0)]\n",
    "    df['EDUCATION'] = df['EDUCATION'].apply(lambda x : 4 if x > 4 else x)\n",
    "\n",
    "    return df\n",
    "\n",
    "train = preprocess_data(train)\n",
    "test = preprocess_data(test)"
   ]
  },
  {
   "cell_type": "code",
   "execution_count": 14,
   "metadata": {},
   "outputs": [],
   "source": [
    "# Elimincion de outliers\n",
    "\n",
    "def remove_outliers(df):\n",
    "    import numpy as np\n",
    "\n",
    "    continouos_features = ['LIMIT_BAL', 'AGE', 'PAY_0', 'PAY_2', 'PAY_3', 'PAY_4', 'PAY_5', 'PAY_6']\n",
    "\n",
    "    for col in continouos_features:\n",
    "        Q1 = np.quantile(df[col], 0.25)\n",
    "        Q3 = np.quantile(df[col], 0.75)\n",
    "        IQR = Q3 - Q1\n",
    "        lower_bound = Q1 - 1.5 * IQR\n",
    "        upper_bound = Q3 + 1.5 * IQR\n",
    "        df = df[(df[col] > lower_bound) & (df[col] < upper_bound)]\n",
    "\n",
    "    return df\n",
    "\n",
    "train_without_outliers = remove_outliers(train)\n",
    "test_without_outliers = remove_outliers(test)"
   ]
  },
  {
   "cell_type": "code",
   "execution_count": 15,
   "metadata": {},
   "outputs": [],
   "source": [
    "# Paso 2: Dividir el dataset en conjunto de entrenamiento y prueba\n",
    "\n",
    "x_train = train.drop('default', axis=1)\n",
    "y_train = train['default']\n",
    "x_test = test.drop('default', axis=1)\n",
    "y_test = test['default']\n",
    "\n",
    "x_train_without_outliers = train_without_outliers.drop('default', axis=1)\n",
    "y_train_without_outliers = train_without_outliers['default']\n",
    "x_test_without_outliers = test_without_outliers.drop('default', axis=1)\n",
    "y_test_without_outliers = test_without_outliers['default']"
   ]
  },
  {
   "cell_type": "code",
   "execution_count": 16,
   "metadata": {},
   "outputs": [
    {
     "name": "stdout",
     "output_type": "stream",
     "text": [
      "Train score: 0.6248671836384432\n",
      "Test score: 0.6395375894824309\n"
     ]
    }
   ],
   "source": [
    "# Paso 3: Crear pipeline\n",
    "\n",
    "from sklearn.pipeline import Pipeline\n",
    "from sklearn.preprocessing import OneHotEncoder, StandardScaler\n",
    "from sklearn.decomposition import PCA\n",
    "from sklearn.compose import ColumnTransformer\n",
    "from sklearn.metrics import balanced_accuracy_score\n",
    "from sklearn.feature_selection import SelectKBest, f_classif\n",
    "from sklearn.svm import SVC\n",
    "\n",
    "categorical_features = ['SEX', 'EDUCATION', 'MARRIAGE']\n",
    "continouos_features = train.columns.difference(categorical_features + ['default'])\n",
    "\n",
    "categorical_transformer = OneHotEncoder(handle_unknown='ignore')\n",
    "\n",
    "continuous_transformer = Pipeline(steps=[\n",
    "    ('scaler', StandardScaler()),\n",
    "    ('pca', PCA(n_components=0.9))\n",
    "])\n",
    "\n",
    "preprocessor = ColumnTransformer(\n",
    "    transformers=[\n",
    "        ('cat', categorical_transformer, categorical_features),\n",
    "        ('num', continuous_transformer, continouos_features)\n",
    "    ])\n",
    "\n",
    "pipeline = Pipeline(steps=[\n",
    "    ('preprocessor', preprocessor),\n",
    "    ('select', SelectKBest(score_func=f_classif, k=11)),\n",
    "    ('classifier', SVC())\n",
    "])\n",
    "\n",
    "pipeline.fit(x_train, y_train)\n",
    "print('Train score:', balanced_accuracy_score(y_train, pipeline.predict(x_train)))\n",
    "print('Test score:', balanced_accuracy_score(  y_test, pipeline.predict(x_test)))"
   ]
  },
  {
   "cell_type": "code",
   "execution_count": 17,
   "metadata": {},
   "outputs": [
    {
     "name": "stdout",
     "output_type": "stream",
     "text": [
      "Fitting 2 folds for each of 1 candidates, totalling 2 fits\n",
      "Best parameters found: {'classifier__C': 100, 'classifier__class_weight': 'balanced', 'classifier__gamma': 0.1, 'classifier__kernel': 'rbf', 'select__k': 11}\n",
      "Best cross-validation score: 0.6790553313850181\n",
      "Train score: 0.7375628967112822\n",
      "Test score: 0.6969541443756455\n"
     ]
    }
   ],
   "source": [
    "from sklearn.model_selection import GridSearchCV\n",
    "\n",
    "# Paso 4: Optimizar hiperparametros\n",
    "\n",
    "param_grid = {\n",
    "    'select__k': list(range(1, len(continouos_features) + 1)),\n",
    "    'classifier__C': [0.01, 0.1, 1, 10, 100, 1000],\n",
    "    'classifier__gamma': [1, 0.1, 0.01, 0.001, 0.0001],\n",
    "    'classifier__kernel': ['linear','rbf'],\n",
    "}\n",
    "\n",
    "param_grid_prueba = {\n",
    "    'select__k': [11],\n",
    "    'classifier__C': [100],\n",
    "    'classifier__gamma': [0.1],\n",
    "    'classifier__kernel': ['rbf'],\n",
    "    'classifier__class_weight': ['balanced']\n",
    "}\n",
    "\n",
    "grid_search = GridSearchCV(pipeline, param_grid_prueba, cv=2, scoring='balanced_accuracy', n_jobs=-1, verbose=2)\n",
    "grid_search.fit(x_train, y_train)\n",
    "\n",
    "print('Best parameters found:', grid_search.best_params_)\n",
    "print('Best cross-validation score:', grid_search.best_score_)\n",
    "print('Train score:', balanced_accuracy_score(y_train, grid_search.predict(x_train)))\n",
    "print('Test score:', balanced_accuracy_score(y_test, grid_search.predict(x_test)))"
   ]
  },
  {
   "cell_type": "code",
   "execution_count": 18,
   "metadata": {},
   "outputs": [],
   "source": [
    "# Paso 5: Guardar el modelo\n",
    "\n",
    "import os\n",
    "import gzip\n",
    "import pickle\n",
    "\n",
    "os.makedirs('../files/models', exist_ok=True)\n",
    "with gzip.open('../files/models/model.pkl.gz', 'wb') as f:\n",
    "    pickle.dump(grid_search, f)"
   ]
  },
  {
   "cell_type": "code",
   "execution_count": 19,
   "metadata": {},
   "outputs": [],
   "source": [
    "# Paso 6 y 7: Calculo de metricas y matriz de confusion\n",
    "\n",
    "def metrics_report(y_test, y_train):\n",
    "    from sklearn.metrics import confusion_matrix, balanced_accuracy_score, precision_score, recall_score, f1_score\n",
    "\n",
    "    y_test_predict = grid_search.predict(x_test)\n",
    "    y_train_predict = grid_search.predict(x_train)\n",
    "\n",
    "    cm_train = confusion_matrix(y_train, y_train_predict)\n",
    "    cm_test = confusion_matrix(y_test, y_test_predict)\n",
    "\n",
    "    metrics = [\n",
    "        {'type': 'metrics', 'dataset': 'train', 'precision': precision_score(y_train, y_train_predict), 'balanced_accuracy': balanced_accuracy_score(y_train, y_train_predict), 'recall': recall_score(y_train, y_train_predict), 'f1_score': f1_score(y_train, y_train_predict)},\n",
    "        {'type': 'metrics', 'dataset': 'test', 'precision': precision_score(y_test, y_test_predict), 'balanced_accuracy': balanced_accuracy_score(y_test, y_test_predict), 'recall': recall_score(y_test, y_test_predict), 'f1_score': f1_score(y_test, y_test_predict)},\n",
    "        {'type': 'cm_matrix', 'dataset': 'train', 'true_0': {\"predicted_0\": int(cm_train[0][0]), \"predicted_1\": int(cm_train[0][1])}, 'true_1': {\"predicted_0\": int(cm_train[1][0]), \"predicted_1\": int(cm_train[1][1])}},\n",
    "        {'type': 'cm_matrix', 'dataset': 'test', 'true_0': {\"predicted_0\": int(cm_test[0][0]), \"predicted_1\": int(cm_test[0][1])}, 'true_1': {\"predicted_0\": int(cm_test[1][0]), \"predicted_1\": int(cm_test[1][1])}}\n",
    "    ]\n",
    "\n",
    "    return metrics\n",
    "\n",
    "results = metrics_report(y_test, y_train)\n"
   ]
  },
  {
   "cell_type": "code",
   "execution_count": 20,
   "metadata": {},
   "outputs": [],
   "source": [
    "# Paso 8: Guardar metricas\n",
    "\n",
    "import json\n",
    "os.makedirs('../files/output', exist_ok=True)\n",
    "with open('../files/output/metrics.json', 'w') as f:\n",
    "    for metric in results:\n",
    "        f.write(json.dumps(metric) + '\\n')"
   ]
  },
  {
   "cell_type": "code",
   "execution_count": 21,
   "metadata": {},
   "outputs": [],
   "source": [
    "TESTING = [\n",
    "    {\n",
    "        \"type\": \"metrics\",\n",
    "        \"dataset\": \"train\",\n",
    "        \"precision\": 0.691,\n",
    "        \"balanced_accuracy\": 0.661,\n",
    "        \"recall\": 0.370,\n",
    "        \"f1_score\": 0.482,\n",
    "    },\n",
    "    {\n",
    "        \"type\": \"metrics\",\n",
    "        \"dataset\": \"test\",\n",
    "        \"precision\": 0.673,\n",
    "        \"balanced_accuracy\": 0.661,\n",
    "        \"recall\": 0.370,\n",
    "        \"f1_score\": 0.482,\n",
    "    },\n",
    "    {\n",
    "        \"type\": \"cm_matrix\",\n",
    "        \"dataset\": \"train\",\n",
    "        \"true_0\": {\"predicted_0\": 15440, \"predicted_1\": None},\n",
    "        \"true_1\": {\"predicted_0\": None, \"predicted_1\": 1735},\n",
    "    },\n",
    "    {\n",
    "        \"type\": \"cm_matrix\",\n",
    "        \"dataset\": \"test\",\n",
    "        \"true_0\": {\"predicted_0\": 6710, \"predicted_1\": None},\n",
    "        \"true_1\": {\"predicted_0\": None, \"predicted_1\": 730},\n",
    "    },\n",
    "]\n"
   ]
      "true_0 ==> Worse\n",
  }
 ],
 "metadata": {
  "kernelspec": {
   "display_name": "Python 3",
   "language": "python",
   "name": "python3"
  },
  "language_info": {
   "codemirror_mode": {
    "name": "ipython",
    "version": 3
   },
   "file_extension": ".py",
   "mimetype": "text/x-python",
   "name": "python",
   "nbconvert_exporter": "python",
   "pygments_lexer": "ipython3",
   "version": "3.11.5"
  }
 },
 "nbformat": 4,
 "nbformat_minor": 2
}
